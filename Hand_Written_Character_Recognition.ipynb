{
  "nbformat": 4,
  "nbformat_minor": 0,
  "metadata": {
    "colab": {
      "name": "Hand Written Character Recognition.ipynb",
      "provenance": [],
      "collapsed_sections": []
    },
    "kernelspec": {
      "name": "python3",
      "display_name": "Python 3"
    },
    "language_info": {
      "name": "python"
    }
  },
  "cells": [
    {
      "cell_type": "code",
      "metadata": {
        "colab": {
          "base_uri": "https://localhost:8080/"
        },
        "id": "C63UCQSzq3aM",
        "outputId": "8bcef7e6-2906-441c-e01d-7fc809357395"
      },
      "source": [
        "# Since MNIST is the most popular dataset, So we can download it\n",
        "# with the help of Scikit-learn\n",
        "from sklearn.datasets import fetch_openml\n",
        "mnist = fetch_openml(\"mnist_784\",version = 1)\n",
        "# Those datasets which are downloaded with the aid of Sklearn have Dictionary \n",
        "# Structure.\n",
        "mnist.keys()"
      ],
      "execution_count": null,
      "outputs": [
        {
          "output_type": "execute_result",
          "data": {
            "text/plain": [
              "dict_keys(['data', 'target', 'frame', 'feature_names', 'target_names', 'DESCR', 'details', 'categories', 'url'])"
            ]
          },
          "metadata": {},
          "execution_count": 1
        }
      ]
    },
    {
      "cell_type": "code",
      "metadata": {
        "colab": {
          "base_uri": "https://localhost:8080/"
        },
        "id": "mdwVctmesTwO",
        "outputId": "cfaea028-96c1-46b3-c673-95857d7ea494"
      },
      "source": [
        "X,Y = mnist[\"data\"],mnist[\"target\"]\n",
        "X.shape\n",
        "# (70000, 784) is the shape of the data means it has 70,000 rows and 784 columns\n",
        "Y.shape\n",
        "# of course its our label so it has 70,000 rows with just single column"
      ],
      "execution_count": null,
      "outputs": [
        {
          "output_type": "execute_result",
          "data": {
            "text/plain": [
              "(70000,)"
            ]
          },
          "metadata": {},
          "execution_count": 2
        }
      ]
    },
    {
      "cell_type": "code",
      "metadata": {
        "colab": {
          "base_uri": "https://localhost:8080/",
          "height": 265
        },
        "id": "2FHw0ysItXH0",
        "outputId": "9415a47f-6fbf-4d65-abbe-2d960d11e964"
      },
      "source": [
        "# Lets display some images\n",
        "import matplotlib as mpl\n",
        "import numpy as np\n",
        "import matplotlib.pyplot as plt\n",
        "some_digit = X[0]\n",
        "some_digit_image = some_digit.reshape(28,28)\n",
        "plt.imshow(some_digit_image,cmap = mpl.cm.binary, interpolation= \"nearest\")\n",
        "plt.axis(\"off\")\n",
        "plt.show()\n",
        "# Instead of string label should be in int format\n",
        "Y = Y.astype(np.uint8)\n",
        "Y[0]"
      ],
      "execution_count": null,
      "outputs": [
        {
          "output_type": "display_data",
          "data": {
            "image/png": "[encoded data removed]",
            "text/plain": [
              "<Figure size 432x288 with 1 Axes>"
            ]
          },
          "metadata": {
            "needs_background": "light"
          }
        },
        {
          "output_type": "execute_result",
          "data": {
            "text/plain": [
              "5"
            ]
          },
          "metadata": {},
          "execution_count": 3
        }
      ]
    },
    {
      "cell_type": "code",
      "metadata": {
        "colab": {
          "base_uri": "https://localhost:8080/"
        },
        "id": "1LJi9cY1xCWr",
        "outputId": "d5d84b2f-ec21-4156-cd5b-b30455e95c4a"
      },
      "source": [
        "# Now its time to acutally split the data into training and testing set.\n",
        "# The mnist dataset is already splitted into training and testing instances.\n",
        "# First 60000 images are training set and rest of the instances belongs to test set\n",
        "X_train, Y_train, X_test, Y_test = X[:60000],Y[:60000],X[60000:],Y[60000:]\n",
        "# The training set is already shuffled for us and its a good as all cross-validation\n",
        "# folds will be similar\n",
        "# Now its time to train a binary classifier\n",
        "Y_train_5 = (Y_train == 5)\n",
        "Y_test_5 = (Y_test == 5)\n",
        "# We will use Stochastic Gradient descent \n",
        "from sklearn.linear_model import SGDClassifier\n",
        "sgd_classifier = SGDClassifier(random_state = 42)\n",
        "sgd_classifier.fit(X_train,Y_train_5)\n",
        "\n",
        "\n"
      ],
      "execution_count": null,
      "outputs": [
        {
          "output_type": "execute_result",
          "data": {
            "text/plain": [
              "SGDClassifier(alpha=0.0001, average=False, class_weight=None,\n",
              "              early_stopping=False, epsilon=0.1, eta0=0.0, fit_intercept=True,\n",
              "              l1_ratio=0.15, learning_rate='optimal', loss='hinge',\n",
              "              max_iter=1000, n_iter_no_change=5, n_jobs=None, penalty='l2',\n",
              "              power_t=0.5, random_state=42, shuffle=True, tol=0.001,\n",
              "              validation_fraction=0.1, verbose=0, warm_start=False)"
            ]
          },
          "metadata": {},
          "execution_count": 5
        }
      ]
    },
    {
      "cell_type": "code",
      "metadata": {
        "colab": {
          "base_uri": "https://localhost:8080/"
        },
        "id": "1z7Ix9blKNhF",
        "outputId": "ad1c7a23-e371-4ce3-d780-73711a8c684b"
      },
      "source": [
        "# Now its the time to check the model.\n",
        "sgd_classifier.predict([some_digit])\n",
        "# Evaluation of model's performance\n",
        "# The first method to measure the performance of a classifer is through cross-validation\n",
        "from sklearn.model_selection import cross_val_score\n",
        "cross_val_score(sgd_classifier,X_train,Y_train_5,cv=3,scoring=\"accuracy\")\n"
      ],
      "execution_count": null,
      "outputs": [
        {
          "output_type": "execute_result",
          "data": {
            "text/plain": [
              "array([0.95035, 0.96035, 0.9604 ])"
            ]
          },
          "metadata": {},
          "execution_count": 11
        }
      ]
    },
    {
      "cell_type": "code",
      "metadata": {
        "colab": {
          "base_uri": "https://localhost:8080/"
        },
        "id": "bEre_tpLwmKp",
        "outputId": "f061effe-64ce-4a0a-bb0b-79ef613e37a2"
      },
      "source": [
        "# Now we are going to build a dummy classifier\n",
        "from sklearn.base import BaseEstimator\n",
        "class Never5Classifier(BaseEstimator):\n",
        "  def fit(self,X,y=None):\n",
        "    pass\n",
        "  def predict(self,X):\n",
        "    return np.zeros((len(X),1),dtype=int)\n",
        "nevr_5_clsf = Never5Classifier()\n",
        "cross_val_score(nevr_5_clsf, X_train, Y_train_5,cv=3, scoring=\"accuracy\")\n"
      ],
      "execution_count": null,
      "outputs": [
        {
          "output_type": "execute_result",
          "data": {
            "text/plain": [
              "array([0.91125, 0.90855, 0.90915])"
            ]
          },
          "metadata": {},
          "execution_count": 12
        }
      ]
    },
    {
      "cell_type": "code",
      "metadata": {
        "colab": {
          "base_uri": "https://localhost:8080/"
        },
        "id": "7C5ge8hXRkaE",
        "outputId": "1e89f31e-e663-482e-8c7b-3e2de74e2efe"
      },
      "source": [
        "# CONFUSION MATRIX\n",
        "# There are two reuirements for confuion matrix Predictions and actual targets\n",
        "# Computing predictions through sklearn method\n",
        "from sklearn.model_selection import cross_val_predict\n",
        "Y_train_predict = cross_val_predict(sgd_classifier, X_train, Y_train_5,cv=3)\n",
        "Y_train_predict[:5]"
      ],
      "execution_count": null,
      "outputs": [
        {
          "output_type": "execute_result",
          "data": {
            "text/plain": [
              "array([ True, False, False, False, False])"
            ]
          },
          "metadata": {},
          "execution_count": 13
        }
      ]
    },
    {
      "cell_type": "code",
      "metadata": {
        "colab": {
          "base_uri": "https://localhost:8080/"
        },
        "id": "4CPxbYxKWxc4",
        "outputId": "0d662b39-5252-4449-a2d0-70c1b4344e97"
      },
      "source": [
        "from sklearn.metrics import confusion_matrix,classification_report\n",
        "confusion_matrix(Y_train_5,Y_train_predict)\n",
        "# Now we will be looking at more consise metrices which can be calculated\n",
        "# using confusion matrix\n",
        "# PRECISION VS RECALL\n",
        "# Recall has some space for errors but precision do not\n",
        "# PRECISION: Think about the predictions as your base\n",
        "# RECALL: Think about the truth as your base\n",
        "# https://www.youtube.com/watch?v=2osIZ-dSPGE for reference\n",
        "print(\"CLASSIFICATION REPORT\")\n",
        "# Now on the basis of only accuracy, which was >90% you cannot predict the model\n",
        "# performing well.\n",
        "# Discovring another metric called F1 Score, which is the converging of precsion\n",
        "# and recall\n",
        "# F1 score is the harmonic mean of precision and recall. HM is the reciporcal of \n",
        "# Arithmetic mean of the recipocal of values (CENTRAl TENDENCY TOPIC)\n",
        "# Another method to get all these three is through classification report\n",
        "print(classification_report(Y_train_5,Y_train_predict))\n"
      ],
      "execution_count": null,
      "outputs": [
        {
          "output_type": "stream",
          "name": "stdout",
          "text": [
            "CLASSIFICATION REPORT\n",
            "              precision    recall  f1-score   support\n",
            "\n",
            "       False       0.97      0.99      0.98     54579\n",
            "        True       0.84      0.65      0.73      5421\n",
            "\n",
            "    accuracy                           0.96     60000\n",
            "   macro avg       0.90      0.82      0.85     60000\n",
            "weighted avg       0.95      0.96      0.95     60000\n",
            "\n"
          ]
        }
      ]
    },
    {
      "cell_type": "code",
      "metadata": {
        "id": "mTz4uIo9wM0J",
        "colab": {
          "base_uri": "https://localhost:8080/"
        },
        "outputId": "e7e35cd2-43a5-4026-b727-2dc350667e14"
      },
      "source": [
        "# PRECISION/RECALL Tradeoff\n",
        "# Unfortunately we cannot increase both these as they behave in inverse proportionality\n",
        "# we cannot set the threshold but can veiw the discision scores\n",
        "y_scores = sgd_classifier.decision_function([some_digit])\n",
        "y_scores\n",
        "threshold = 0\n",
        "y_some_digit_predict = (y_scores>threshold)\n",
        "y_some_digit_predict\n",
        "# If we increase the threshold we will increase the precision but decrease the \n",
        "# recall\n",
        "threshold = 8000\n",
        "y_some_digit_predict = (y_scores>threshold)\n",
        "y_some_digit_predict\n",
        "# Now the problem is how do we know which threshold should we use?\n",
        "y_scores = cross_val_predict(sgd_classifier, X_train,Y_train_5, cv = 3, method=\"decision_function\")\n",
        "# on the basis of these scores instances are classified as 5 or not 5\n",
        "y_scores\n"
      ],
      "execution_count": null,
      "outputs": [
        {
          "output_type": "execute_result",
          "data": {
            "text/plain": [
              "array([  1200.93051237, -26883.79202424, -33072.03475406, ...,\n",
              "        13272.12718981,  -7258.47203373, -16877.50840447])"
            ]
          },
          "metadata": {},
          "execution_count": 15
        }
      ]
    },
    {
      "cell_type": "code",
      "metadata": {
        "colab": {
          "base_uri": "https://localhost:8080/",
          "height": 605
        },
        "id": "klp31Ey3ew2A",
        "outputId": "93f5e624-ddf0-49cb-fd46-cba7e25a2b86"
      },
      "source": [
        "# we can calculate precision and recall for different thresholds \n",
        "# https://www.youtube.com/watch?v=UO98lJQ3QGI for plot reference\n",
        "from sklearn.metrics import precision_recall_curve\n",
        "precisions, recalls, thresholds = precision_recall_curve(Y_train_5,y_scores)\n",
        "# plotting precision recall as function of decision\n",
        "def plot_precision_recall_vs_threshold(precision,recall,threshold):\n",
        "  plt.plot(thresholds,precision[:-1],\"b--\",label = \"Precision\")\n",
        "  plt.plot(thresholds,recall[:-1],\"g-\",label = \"Recall\")\n",
        "  plt.legend()\n",
        "  plt.title(\"PRECISION,RECALL VS THRESHOLD\",fontdict={'family':'serif','color':'black','size':20})\n",
        "  plt.xlabel(\"Threshold\",fontdict={'family':'serif','color':'black','size':20})\n",
        "  plt.grid()\n",
        "  plt.show()\n",
        "def plot_precision_vs_recall(precision,recall):\n",
        "  plt.plot(recall[:-1],precision[:-1],)\n",
        "  plt.xlabel(\"RECALL\")\n",
        "  plt.ylabel(\"PRECISION\")\n",
        "  plt.grid()\n",
        "  plt.show()\n",
        "\n",
        "plot_precision_recall_vs_threshold(precisions,recalls,threshold=thresholds)\n",
        "print(\"\\n\")\n",
        "plot_precision_vs_recall(precisions,recalls)\n"
      ],
      "execution_count": null,
      "outputs": [
        {
          "output_type": "display_data",
          "data": {
            "image/png": "[encoded data removed]",
            "text/plain": [
              "<Figure size 432x288 with 1 Axes>"
            ]
          },
          "metadata": {
            "needs_background": "light"
          }
        },
        {
          "output_type": "stream",
          "name": "stdout",
          "text": [
            "\n",
            "\n"
          ]
        },
        {
          "output_type": "display_data",
          "data": {
            "image/png": "[encoded data removed]",
            "text/plain": [
              "<Figure size 432x288 with 1 Axes>"
            ]
          },
          "metadata": {
            "needs_background": "light"
          }
        }
      ]
    },
    {
      "cell_type": "code",
      "metadata": {
        "id": "qcJg0PY00mOY",
        "colab": {
          "base_uri": "https://localhost:8080/"
        },
        "outputId": "18306429-842e-4ed0-c546-dab6913972ab"
      },
      "source": [
        "# We got our index from the array based on specific condition\n",
        "from sklearn.metrics import precision_score, recall_score\n",
        "# https://www.javatpoint.com/numpy-argmax for reference\n",
        "thresh_90_precs = thresholds[np.argmax(precisions>=0.90)]\n",
        "y_train_predict_90 = (y_scores>= thresh_90_precs)\n",
        "print(\"PRECISION:\", precision_score(Y_train_5,y_train_predict_90))\n",
        "print(\"RECALL:\", recall_score(Y_train_5,y_train_predict_90))\n",
        "# So we got 90% precise classifier\n"
      ],
      "execution_count": null,
      "outputs": [
        {
          "output_type": "stream",
          "name": "stdout",
          "text": [
            "PRECISION: 0.9000345901072293\n",
            "RECALL: 0.4799852425751706\n"
          ]
        }
      ]
    },
    {
      "cell_type": "code",
      "metadata": {
        "colab": {
          "base_uri": "https://localhost:8080/",
          "height": 295
        },
        "id": "lN-4i9jqC6UG",
        "outputId": "c9628ec6-2116-438e-913d-b50a299bae38"
      },
      "source": [
        "# THE ROC CURVE\n",
        "# Plotting TPR(RECALL) VS FPR, We can get FPR using TNR-1 which is also called specificity\n",
        "from sklearn.metrics import roc_curve\n",
        "fpr,tpr, thresholds = roc_curve(Y_train_5,y_scores)\n",
        "def plot_roc_curve(fpr, tpr, label=None):\n",
        " plt.plot(fpr, tpr, linewidth=2, label=label)\n",
        " plt.plot([0, 1], [0, 1], 'k--') # dashed diagonal\n",
        " plt.title(\"THE ROC CURVE\")\n",
        " plt.grid()\n",
        " plt.xlabel(\"FALSE POSITIVE RATE\")\n",
        " plt.ylabel(\"TRUE POSITIVE RATE\")\n",
        "plot_roc_curve(fpr,tpr)\n"
      ],
      "execution_count": null,
      "outputs": [
        {
          "output_type": "display_data",
          "data": {
            "image/png": "[encoded data removed]",
            "text/plain": [
              "<Figure size 432x288 with 1 Axes>"
            ]
          },
          "metadata": {
            "needs_background": "light"
          }
        }
      ]
    },
    {
      "cell_type": "code",
      "metadata": {
        "id": "gCN43oyfclGM"
      },
      "source": [
        "# Another way to compare classifiers is through AUC-ROC\n",
        "# An ideal classifier has an area equal to 1\n",
        "from sklearn.metrics import roc_auc_score\n",
        "roc_auc_score(Y_train_5,y_scores)\n",
        "# We are going to train another classifier\n",
        "from sklearn.ensemble import RandomForestClassifier\n",
        "forest_clfr = RandomForestClassifier(random_state=42)\n",
        "y_probas_forest = cross_val_predict(forest_clfr, X_train,Y_train_5, cv=3, method=\"predict_proba\")\n"
      ],
      "execution_count": null,
      "outputs": []
    },
    {
      "cell_type": "code",
      "metadata": {
        "colab": {
          "base_uri": "https://localhost:8080/",
          "height": 320
        },
        "id": "JnhJNRsDhR-P",
        "outputId": "36166cce-cb1e-46f3-ac58-e059bdaf3c5c"
      },
      "source": [
        "y_probas_forest[:5]\n",
        "y_forest_predict = cross_val_predict(forest_clfr, X_train,Y_train_5, cv=3, method=\"predict\")\n",
        "# To plot the roc curve we need scores instead of probabilites\n",
        "y_scores_forest = y_probas_forest[:,1]\n",
        "fpr_forest,tpr_forest, thresholds_forest = roc_curve(Y_train_5,y_scores_forest)\n",
        "# Plotting both roc curve sgd and random forest\n",
        "plt.plot(fpr,tpr,\"b--\",label = \"SGD\")\n",
        "plt.plot(fpr_forest,tpr_forest,label = \"FOREST\")\n",
        "plt.plot([0, 1], [0, 1], 'k--') # dashed diagonal\n",
        "plt.legend()\n",
        "plt.title(\"SGD VS FOREST ROC\",fontdict={'family':'serif','color':'black','size':20})\n",
        "plt.grid()\n",
        "plt.show()\n",
        "roc_auc_score(Y_train_5,y_scores_forest)\n",
        "print(\"PRECISION:\", precision_score(Y_train_5,y_forest_predict))\n",
        "print(\"RECALL:\", recall_score(Y_train_5,y_forest_predict))"
      ],
      "execution_count": null,
      "outputs": [
        {
          "output_type": "display_data",
          "data": {
            "image/png": "[encoded data removed]",
            "text/plain": [
              "<Figure size 432x288 with 1 Axes>"
            ]
          },
          "metadata": {
            "needs_background": "light"
          }
        },
        {
          "output_type": "stream",
          "name": "stdout",
          "text": [
            "PRECISION: 0.9905083315756169\n",
            "RECALL: 0.8662608374838591\n"
          ]
        }
      ]
    },
    {
      "cell_type": "code",
      "metadata": {
        "colab": {
          "base_uri": "https://localhost:8080/"
        },
        "id": "xcIJhaeHIo79",
        "outputId": "1f1a3154-1e2d-4e81-e8aa-a42c5742586d"
      },
      "source": [
        "# MULTI CLASS CLASSIFICATION\n",
        "# OvA VS OvO, if we try to train a binary classifer to classify in more than one\n",
        "# class, then sklearn automatically uses OvA technique\n",
        "sgd_classifier.fit(X_train,Y_train)\n",
        "sgd_classifier.predict([some_digit])"
      ],
      "execution_count": null,
      "outputs": [
        {
          "output_type": "execute_result",
          "data": {
            "text/plain": [
              "array([3], dtype=uint8)"
            ]
          },
          "metadata": {},
          "execution_count": 22
        }
      ]
    },
    {
      "cell_type": "code",
      "metadata": {
        "colab": {
          "base_uri": "https://localhost:8080/"
        },
        "id": "t6--jZBrLume",
        "outputId": "56aa6fb9-cc66-4e36-d561-65396405ab52"
      },
      "source": [
        "some_digit_scores = sgd_classifier.decision_function([some_digit])\n",
        "# np.argmax(some_digit_scores) for the index of maximum value in the array\n",
        "sgd_classifier.classes_\n"
      ],
      "execution_count": null,
      "outputs": [
        {
          "output_type": "execute_result",
          "data": {
            "text/plain": [
              "array([0, 1, 2, 3, 4, 5, 6, 7, 8, 9], dtype=uint8)"
            ]
          },
          "metadata": {},
          "execution_count": 23
        }
      ]
    },
    {
      "cell_type": "code",
      "metadata": {
        "colab": {
          "base_uri": "https://localhost:8080/"
        },
        "id": "TUXuAvCGMx14",
        "outputId": "83969262-6ea3-4e96-daac-b395e283034f"
      },
      "source": [
        "# We can also force sklearn to Use OvO or OvA Strategies\n",
        "from sklearn.multiclass import OneVsOneClassifier\n",
        "ovo_clsf = OneVsOneClassifier(SGDClassifier(random_state = 42))\n",
        "ovo_clsf.fit(X_train,Y_train)\n",
        "ovo_clsf.predict([some_digit])"
      ],
      "execution_count": null,
      "outputs": [
        {
          "output_type": "execute_result",
          "data": {
            "text/plain": [
              "array([5], dtype=uint8)"
            ]
          },
          "metadata": {},
          "execution_count": 24
        }
      ]
    },
    {
      "cell_type": "code",
      "metadata": {
        "colab": {
          "base_uri": "https://localhost:8080/"
        },
        "id": "6GRS3V0yPqFG",
        "outputId": "ddb15ecc-9fdb-411b-9bce-f6fc6e8f7f80"
      },
      "source": [
        "# Estimator and Models are the Same things in AI\n",
        "len(ovo_clsf.estimators_)\n",
        "# In Case of Random Forest Classifer both OvO and OvA are not utilized because\n",
        "# it automatically classifies each instance into multiple classes\n",
        "forest_clfr.fit(X_train,Y_train)\n",
        "forest_clfr.predict([some_digit])"
      ],
      "execution_count": null,
      "outputs": [
        {
          "output_type": "execute_result",
          "data": {
            "text/plain": [
              "array([5], dtype=uint8)"
            ]
          },
          "metadata": {},
          "execution_count": 25
        }
      ]
    },
    {
      "cell_type": "code",
      "metadata": {
        "colab": {
          "base_uri": "https://localhost:8080/"
        },
        "id": "3UmVG3pIRmBH",
        "outputId": "dbc38493-3f45-47a3-dded-cf4789f42bfa"
      },
      "source": [
        "forest_clfr.predict_proba([some_digit])\n",
        "# Now We are going to evaluate the Classifiers\n",
        "cross_val_score(sgd_classifier, X_train, Y_train, cv = 3, scoring= \"accuracy\")\n"
      ],
      "execution_count": null,
      "outputs": [
        {
          "output_type": "execute_result",
          "data": {
            "text/plain": [
              "array([0.87365, 0.85835, 0.8689 ])"
            ]
          },
          "metadata": {},
          "execution_count": 26
        }
      ]
    },
    {
      "cell_type": "code",
      "metadata": {
        "colab": {
          "base_uri": "https://localhost:8080/"
        },
        "id": "-rSQ9-OfYEhS",
        "outputId": "6308b52a-74b4-490b-eae3-115c5b804ec6"
      },
      "source": [
        "# One way to increase the accuracy is through feature scaling\n",
        "from sklearn.preprocessing import StandardScaler\n",
        "scaler = StandardScaler()\n",
        "X_train_scaled = scaler.fit_transform(X_train.astype(np.float64))\n",
        "cross_val_score(sgd_classifier, X_train_scaled, Y_train, cv = 3, scoring= \"accuracy\")\n"
      ],
      "execution_count": null,
      "outputs": [
        {
          "output_type": "execute_result",
          "data": {
            "text/plain": [
              "array([0.8983, 0.891 , 0.9018])"
            ]
          },
          "metadata": {},
          "execution_count": 27
        }
      ]
    },
    {
      "cell_type": "code",
      "metadata": {
        "id": "oZm9C1nrZt1X"
      },
      "source": [
        "# ERROR ANALYSIS\n",
        "# One of the ways to improve Model's performance\n",
        "y_train_pred = cross_val_predict(sgd_classifier, X_train_scaled, Y_train, cv=3)\n"
      ],
      "execution_count": null,
      "outputs": []
    },
    {
      "cell_type": "code",
      "metadata": {
        "colab": {
          "base_uri": "https://localhost:8080/",
          "height": 462
        },
        "id": "Jbq04HZvvDQn",
        "outputId": "63217b22-821b-444d-915f-08c94fb25b09"
      },
      "source": [
        "cm = confusion_matrix(Y_train,y_train_pred)\n",
        "print(\"CONFUSION MATRIX\")\n",
        "print(cm)\n",
        "# Let see the confusion matrix in image format\n",
        "plt.matshow(cm, cmap = plt.cm.gray)\n",
        "plt.show()"
      ],
      "execution_count": null,
      "outputs": [
        {
          "output_type": "stream",
          "name": "stdout",
          "text": [
            "CONFUSION MATRIX\n",
            "[[5577    0   22    5    8   43   36    6  225    1]\n",
            " [   0 6400   37   24    4   44    4    7  212   10]\n",
            " [  27   27 5220   92   73   27   67   36  378   11]\n",
            " [  22   17  117 5227    2  203   27   40  403   73]\n",
            " [  12   14   41    9 5182   12   34   27  347  164]\n",
            " [  27   15   30  168   53 4444   75   14  535   60]\n",
            " [  30   15   42    3   44   97 5552    3  131    1]\n",
            " [  21   10   51   30   49   12    3 5684  195  210]\n",
            " [  17   63   48   86    3  126   25   10 5429   44]\n",
            " [  25   18   30   64  118   36    1  179  371 5107]]\n"
          ]
        },
        {
          "output_type": "display_data",
          "data": {
            "image/png": "[encoded data removed]",
            "text/plain": [
              "<Figure size 288x288 with 1 Axes>"
            ]
          },
          "metadata": {
            "needs_background": "light"
          }
        }
      ]
    },
    {
      "cell_type": "code",
      "metadata": {
        "colab": {
          "base_uri": "https://localhost:8080/",
          "height": 292
        },
        "id": "t_JuReYwxwuz",
        "outputId": "ee46f36a-27f6-4013-8e2b-4295def124be"
      },
      "source": [
        "# Plotting Errors\n",
        "rows_sum = cm.sum(axis=1, keepdims=True)\n",
        "norm_cm  = cm/rows_sum\n",
        "np.fill_diagonal(norm_cm,0)\n",
        "plt.matshow(norm_cm,cmap= plt.cm.gray)\n",
        "plt.show()\n"
      ],
      "execution_count": null,
      "outputs": [
        {
          "output_type": "display_data",
          "data": {
            "text/plain": [
              "<Figure size 3600x720 with 0 Axes>"
            ]
          },
          "metadata": {}
        },
        {
          "output_type": "display_data",
          "data": {
            "image/png": "[encoded data removed]",
            "text/plain": [
              "<Figure size 288x288 with 1 Axes>"
            ]
          },
          "metadata": {
            "needs_background": "light"
          }
        }
      ]
    },
    {
      "cell_type": "code",
      "metadata": {
        "colab": {
          "base_uri": "https://localhost:8080/"
        },
        "id": "sk1Y_xhQtJbT",
        "outputId": "95002d7f-40fe-4cb1-f7e7-834138d3b07c"
      },
      "source": [
        "# MULTILABEL CLASSIFICATION (BINARY OUTPUT)\n",
        "from sklearn.neighbors import KNeighborsClassifier\n",
        "# Its a mostly used classifier for multilabel classification\n",
        "y_train_large = (Y_train>=7)\n",
        "y_train_odd = (Y_train % 2 == 1)\n",
        "# np.c_ is for concatinating two array elemnts into single one\n",
        "y_multilabel = np.c_[y_train_large, y_train_odd]\n",
        "knn_clsf = KNeighborsClassifier()\n",
        "knn_clsf.fit(X_train, y_multilabel)\n",
        "\n",
        "\n"
      ],
      "execution_count": null,
      "outputs": [
        {
          "output_type": "execute_result",
          "data": {
            "text/plain": [
              "KNeighborsClassifier(algorithm='auto', leaf_size=30, metric='minkowski',\n",
              "                     metric_params=None, n_jobs=None, n_neighbors=5, p=2,\n",
              "                     weights='uniform')"
            ]
          },
          "metadata": {},
          "execution_count": 5
        }
      ]
    },
    {
      "cell_type": "code",
      "metadata": {
        "id": "oMmNLswSU7g8"
      },
      "source": [
        "from sklearn.model_selection import cross_val_predict\n",
        "# average{‘micro’, ‘macro’, ‘samples’,’weighted’, ‘binary’} or None, default=’binary’\n",
        "# Checking Model\n",
        "knn_clsf.predict([some_digit])\n",
        "# Evaluating Multilabel Classifier\n",
        "# Calculating F1 Score for both labels\n",
        "y_train_knn_pred = cross_val_predict(knn_clsf,X_train,y_multilabel, cv= 3)"
      ],
      "execution_count": null,
      "outputs": []
    },
    {
      "cell_type": "code",
      "metadata": {
        "colab": {
          "base_uri": "https://localhost:8080/"
        },
        "id": "oPyxZbWm_Yqb",
        "outputId": "6973015e-1e58-4c8a-e613-1a759aba5d38"
      },
      "source": [
        "# FI Score\n",
        "from sklearn.metrics import f1_score\n",
        "f1_score(y_multilabel, y_train_knn_pred, average=\"macro\")\n"
      ],
      "execution_count": null,
      "outputs": [
        {
          "output_type": "execute_result",
          "data": {
            "text/plain": [
              "0.976410265560605"
            ]
          },
          "metadata": {},
          "execution_count": 9
        }
      ]
    },
    {
      "cell_type": "code",
      "metadata": {
        "id": "tBUy_s1VPLzM"
      },
      "source": [
        "# MULTIOUTPUT CLASSIFICATION\n",
        "# NOISE REMOVER SYSTEM\n",
        "noise = np.random.randint(0, 100, (len(X_train), 784))\n",
        "X_train_mod = X_train + noise\n",
        "noise = np.random.randint(0, 100, (len(X_test), 784))\n",
        "X_test_mod = X_test + noise\n",
        "# Images without noise are the labels and with noise are the inputs\n",
        "Y_train_mod = X_train\n",
        "Y_test_mod = X_test\n"
      ],
      "execution_count": null,
      "outputs": []
    },
    {
      "cell_type": "code",
      "metadata": {
        "colab": {
          "base_uri": "https://localhost:8080/",
          "height": 299
        },
        "id": "iLB_qDyPS9Nq",
        "outputId": "ce4c8cf1-deed-4995-9183-73b21af70de8"
      },
      "source": [
        "# Lets PrintOut the Noisy Image\n",
        "from sklearn.neighbors import KNeighborsClassifier\n",
        "some_digit_mod = X_train_mod[0]\n",
        "some_digit_image_mod = some_digit_mod.reshape(28,28)\n",
        "plt.imshow(some_digit_image_mod,cmap = mpl.cm.binary, interpolation= \"nearest\")\n",
        "plt.axis(\"off\")\n",
        "plt.show()\n",
        "# Now lets train the model\n",
        "knn_clsf = KNeighborsClassifier()\n",
        "knn_clsf.fit(X_train_mod,Y_train_mod)"
      ],
      "execution_count": null,
      "outputs": [
        {
          "output_type": "display_data",
          "data": {
            "image/png": "[encoded data removed]",
            "text/plain": [
              "<Figure size 432x288 with 1 Axes>"
            ]
          },
          "metadata": {
            "needs_background": "light"
          }
        },
        {
          "output_type": "execute_result",
          "data": {
            "text/plain": [
              "KNeighborsClassifier(algorithm='auto', leaf_size=30, metric='minkowski',\n",
              "                     metric_params=None, n_jobs=None, n_neighbors=5, p=2,\n",
              "                     weights='uniform')"
            ]
          },
          "metadata": {},
          "execution_count": 20
        }
      ]
    },
    {
      "cell_type": "code",
      "metadata": {
        "colab": {
          "base_uri": "https://localhost:8080/",
          "height": 248
        },
        "id": "xo8OHFNeUK7K",
        "outputId": "611fe274-cf6f-4957-a743-0d9b5fcdb7b7"
      },
      "source": [
        "# Lets see if the model can clean this image\n",
        "clean_digit = knn_clsf.predict([X_train_mod[0]])\n",
        "clean_digit_image_mod = clean_digit.reshape(28,28)\n",
        "plt.imshow(clean_digit_image_mod,cmap = mpl.cm.binary, interpolation= \"nearest\")\n",
        "plt.axis(\"off\")\n",
        "plt.show()\n",
        "# That All For The Classification."
      ],
      "execution_count": null,
      "outputs": [
        {
          "output_type": "display_data",
          "data": {
            "image/png": "[encoded data removed]",
            "text/plain": [
              "<Figure size 432x288 with 1 Axes>"
            ]
          },
          "metadata": {
            "needs_background": "light"
          }
        }
      ]
    }
  ]
}